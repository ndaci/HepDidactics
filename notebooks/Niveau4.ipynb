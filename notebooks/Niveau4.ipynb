{
 "cells": [
  {
   "cell_type": "markdown",
   "id": "c4e20fc8",
   "metadata": {},
   "source": [
    "# Activité 4 : la chasse au ~bison~ boson de Higgs !"
   ]
  },
  {
   "cell_type": "markdown",
   "id": "de75dea4",
   "metadata": {},
   "source": [
    "Dans les activités précédentes, vous avez travaillé sur la notion de masse invariante, ainsi que sur la nature statistique de la détection d'une particule instable. En effet, seuls les produits de désintégration de cette dernière sont reconstruits et identifiés. La masse invariante des produits de désintégration donne accès à la masse invariante de la particule qui s'est désintégrée.\n",
    "\n",
    "**Cette activité consiste à reproduire de façon simplifiée la recherche du boson de Higgs.**\n",
    "\n",
    "Le \"Modèle Standard de la physique des particules\" est la théorie qui décrit notre compréhension actuelle de ce domaine. Elle s'appuie sur la mécanique quantique et la relativité restreinte. Au coeur du Modèle Standard se niche le \"mécanisme de Higgs\", qui décrit l'origine de la masse des bosons $W^\\pm$ et Z. De plus, il prédit l'existence d'une particule supplémentaire, le \"boson de Higgs\". Dans cette théorie, la masse des particules constituant la matière (les fermions) provient de leur interaction avec le boson de Higgs.\n",
    "\n",
    "L'existence du boson de Higgs a été prédite dès 1964, et plusieurs générations de physiciens et d'expériences ont tenté de le découvrir. Cette découverte a été réalisée au LHC en exploitant les collisions de protons effectuées en 2011 et 2012."
   ]
  },
  {
   "cell_type": "markdown",
   "id": "e324d6ba",
   "metadata": {},
   "source": [
    "## 1) Importation des outils et des données"
   ]
  },
  {
   "cell_type": "code",
   "execution_count": 1,
   "id": "472554ea",
   "metadata": {},
   "outputs": [],
   "source": [
    "# Importation des outils\n",
    "import numpy as np\n",
    "import pandas as pd\n",
    "import matplotlib.pyplot as plt\n",
    "#%matplotlib inline"
   ]
  },
  {
   "cell_type": "markdown",
   "id": "e6a5c60c",
   "metadata": {},
   "source": [
    "Le boson de Higgs (H) est instable : son temps de vie est de l'ordre de $10^{-22}$ s. \n",
    "Seuls ses produits de désintégration sont détectables. Nous nous concentrerons ici sur le \"canal de désintégration\" suivant : $H \\rightarrow ZZ \\rightarrow \\ell^{+}\\ell^{-}\\ell^{+}\\ell^{-}$. \n",
    "\n",
    "Le boson H se désintègre d'abord en deux bosons Z, qui se désintègrent chacun en paire de \"leptons\" de charge opposée, notés $\\ell^\\pm$. Il s'agit ici de paires d'électrons ($e^+ e^- $) et de muons ($\\mu^+ \\mu^-$).\n",
    "\n",
    "_Remarque : en physique des particules, les positrons sont souvent nommés électrons par abus de langage, car ce sont les mêmes algorithmes qui leur sont appliqués, et leur signature dans le détecteur est identique, mis à part le sens de rotation induit par le champ magnétique._\n",
    "\n",
    "Importons des échantillons de données enregistrées en 2011 et en 2012."
   ]
  },
  {
   "cell_type": "code",
   "execution_count": 2,
   "id": "50c069ce",
   "metadata": {},
   "outputs": [],
   "source": [
    "# Importation des données (fichiers csv)\n",
    "\n",
    "# pour générer les chemins de fichier\n",
    "dossier = 'data/'\n",
    "canaux  = ['4e', '4mu', '2e2mu']\n",
    "années  = ['2011', '2012']\n",
    "fichier = ''\n",
    "\n",
    "# pour lister les data frames\n",
    "liste_df = []\n",
    "\n",
    "# boucle sur les canaux et les années\n",
    "for c in canaux:\n",
    "    for a in années:\n",
    "        fichier = dossier + c + '_' + a + '.csv'\n",
    "        liste_df.append( pd.read_csv(fichier) )\n",
    "\n",
    "# concaténation des data frames\n",
    "data = pd.concat(liste_df)"
   ]
  },
  {
   "cell_type": "markdown",
   "id": "66ef8f59",
   "metadata": {},
   "source": [
    "Les données ont subi une présélection qui réduit la part d'évènements de \"bruit de fond\". Il s'agit des autres processus produisant l'état final attendu : deux paires de leptons de charge opposée. Ces 4 objets reconstruits peuvent être réellement les 4 leptons attendus, ou le produit d'erreurs expérimentales affectant par exemple la reconstruction, l'identification, la charge électrique et les observables cinématiques mesurées, etc.\n",
    "\n",
    "Affichons quelques évènements pour avoir un aperçu des variables disponibles."
   ]
  },
  {
   "cell_type": "code",
   "execution_count": 3,
   "id": "cf827234",
   "metadata": {
    "scrolled": true
   },
   "outputs": [
    {
     "data": {
      "text/html": [
       "<div>\n",
       "<style scoped>\n",
       "    .dataframe tbody tr th:only-of-type {\n",
       "        vertical-align: middle;\n",
       "    }\n",
       "\n",
       "    .dataframe tbody tr th {\n",
       "        vertical-align: top;\n",
       "    }\n",
       "\n",
       "    .dataframe thead th {\n",
       "        text-align: right;\n",
       "    }\n",
       "</style>\n",
       "<table border=\"1\" class=\"dataframe\">\n",
       "  <thead>\n",
       "    <tr style=\"text-align: right;\">\n",
       "      <th></th>\n",
       "      <th>Run</th>\n",
       "      <th>Event</th>\n",
       "      <th>PID1</th>\n",
       "      <th>E1</th>\n",
       "      <th>px1</th>\n",
       "      <th>py1</th>\n",
       "      <th>pz1</th>\n",
       "      <th>pt1</th>\n",
       "      <th>eta1</th>\n",
       "      <th>phi1</th>\n",
       "      <th>...</th>\n",
       "      <th>px4</th>\n",
       "      <th>py4</th>\n",
       "      <th>pz4</th>\n",
       "      <th>pt4</th>\n",
       "      <th>eta4</th>\n",
       "      <th>phi4</th>\n",
       "      <th>Q4</th>\n",
       "      <th>mZ1</th>\n",
       "      <th>mZ2</th>\n",
       "      <th>M</th>\n",
       "    </tr>\n",
       "  </thead>\n",
       "  <tbody>\n",
       "    <tr>\n",
       "      <th>0</th>\n",
       "      <td>167675</td>\n",
       "      <td>876658967</td>\n",
       "      <td>-11</td>\n",
       "      <td>46.2967</td>\n",
       "      <td>-45.4721</td>\n",
       "      <td>-8.61010</td>\n",
       "      <td>-1.24072</td>\n",
       "      <td>46.2801</td>\n",
       "      <td>-0.026806</td>\n",
       "      <td>-2.954460</td>\n",
       "      <td>...</td>\n",
       "      <td>-0.091305</td>\n",
       "      <td>7.280830</td>\n",
       "      <td>-2.077270</td>\n",
       "      <td>7.28140</td>\n",
       "      <td>-0.281549</td>\n",
       "      <td>1.583340</td>\n",
       "      <td>-1</td>\n",
       "      <td>91.9271</td>\n",
       "      <td>27.3974</td>\n",
       "      <td>125.5280</td>\n",
       "    </tr>\n",
       "    <tr>\n",
       "      <th>1</th>\n",
       "      <td>173243</td>\n",
       "      <td>16706390</td>\n",
       "      <td>11</td>\n",
       "      <td>352.0970</td>\n",
       "      <td>-58.3284</td>\n",
       "      <td>-8.93069</td>\n",
       "      <td>347.11700</td>\n",
       "      <td>59.0081</td>\n",
       "      <td>2.472280</td>\n",
       "      <td>-2.989660</td>\n",
       "      <td>...</td>\n",
       "      <td>7.339310</td>\n",
       "      <td>-25.118200</td>\n",
       "      <td>-12.088100</td>\n",
       "      <td>26.16850</td>\n",
       "      <td>-0.446908</td>\n",
       "      <td>-1.286520</td>\n",
       "      <td>-1</td>\n",
       "      <td>91.4178</td>\n",
       "      <td>92.9952</td>\n",
       "      <td>285.9600</td>\n",
       "    </tr>\n",
       "    <tr>\n",
       "      <th>2</th>\n",
       "      <td>171106</td>\n",
       "      <td>141954801</td>\n",
       "      <td>11</td>\n",
       "      <td>49.6757</td>\n",
       "      <td>-8.9885</td>\n",
       "      <td>44.24350</td>\n",
       "      <td>-20.72180</td>\n",
       "      <td>45.1473</td>\n",
       "      <td>-0.444228</td>\n",
       "      <td>1.771230</td>\n",
       "      <td>...</td>\n",
       "      <td>-36.407800</td>\n",
       "      <td>0.928434</td>\n",
       "      <td>-2.835530</td>\n",
       "      <td>36.41960</td>\n",
       "      <td>-0.077779</td>\n",
       "      <td>3.116100</td>\n",
       "      <td>1</td>\n",
       "      <td>91.5484</td>\n",
       "      <td>87.7217</td>\n",
       "      <td>186.9150</td>\n",
       "    </tr>\n",
       "    <tr>\n",
       "      <th>3</th>\n",
       "      <td>163758</td>\n",
       "      <td>113529826</td>\n",
       "      <td>-11</td>\n",
       "      <td>112.0390</td>\n",
       "      <td>-19.2226</td>\n",
       "      <td>25.67490</td>\n",
       "      <td>107.35000</td>\n",
       "      <td>32.0735</td>\n",
       "      <td>1.922810</td>\n",
       "      <td>2.213460</td>\n",
       "      <td>...</td>\n",
       "      <td>3.981140</td>\n",
       "      <td>6.144260</td>\n",
       "      <td>9.806040</td>\n",
       "      <td>7.32130</td>\n",
       "      <td>1.102240</td>\n",
       "      <td>0.995867</td>\n",
       "      <td>-1</td>\n",
       "      <td>70.4304</td>\n",
       "      <td>20.1941</td>\n",
       "      <td>100.9230</td>\n",
       "    </tr>\n",
       "    <tr>\n",
       "      <th>4</th>\n",
       "      <td>172952</td>\n",
       "      <td>842265702</td>\n",
       "      <td>-11</td>\n",
       "      <td>87.6280</td>\n",
       "      <td>41.7576</td>\n",
       "      <td>11.55910</td>\n",
       "      <td>-76.16670</td>\n",
       "      <td>43.3279</td>\n",
       "      <td>-1.329820</td>\n",
       "      <td>0.270053</td>\n",
       "      <td>...</td>\n",
       "      <td>-0.119199</td>\n",
       "      <td>-9.074940</td>\n",
       "      <td>-25.091200</td>\n",
       "      <td>9.07572</td>\n",
       "      <td>-1.741270</td>\n",
       "      <td>-1.583930</td>\n",
       "      <td>-1</td>\n",
       "      <td>68.6352</td>\n",
       "      <td>20.0945</td>\n",
       "      <td>95.4259</td>\n",
       "    </tr>\n",
       "    <tr>\n",
       "      <th>...</th>\n",
       "      <td>...</td>\n",
       "      <td>...</td>\n",
       "      <td>...</td>\n",
       "      <td>...</td>\n",
       "      <td>...</td>\n",
       "      <td>...</td>\n",
       "      <td>...</td>\n",
       "      <td>...</td>\n",
       "      <td>...</td>\n",
       "      <td>...</td>\n",
       "      <td>...</td>\n",
       "      <td>...</td>\n",
       "      <td>...</td>\n",
       "      <td>...</td>\n",
       "      <td>...</td>\n",
       "      <td>...</td>\n",
       "      <td>...</td>\n",
       "      <td>...</td>\n",
       "      <td>...</td>\n",
       "      <td>...</td>\n",
       "      <td>...</td>\n",
       "    </tr>\n",
       "    <tr>\n",
       "      <th>99</th>\n",
       "      <td>200091</td>\n",
       "      <td>1605749984</td>\n",
       "      <td>11</td>\n",
       "      <td>14.1546</td>\n",
       "      <td>11.1802</td>\n",
       "      <td>-8.48591</td>\n",
       "      <td>1.82908</td>\n",
       "      <td>14.0360</td>\n",
       "      <td>0.129948</td>\n",
       "      <td>-0.649243</td>\n",
       "      <td>...</td>\n",
       "      <td>9.249230</td>\n",
       "      <td>-12.496400</td>\n",
       "      <td>-7.658040</td>\n",
       "      <td>15.54700</td>\n",
       "      <td>-0.474560</td>\n",
       "      <td>-0.933628</td>\n",
       "      <td>1</td>\n",
       "      <td>92.3019</td>\n",
       "      <td>34.3236</td>\n",
       "      <td>129.9130</td>\n",
       "    </tr>\n",
       "    <tr>\n",
       "      <th>100</th>\n",
       "      <td>200188</td>\n",
       "      <td>309219190</td>\n",
       "      <td>-11</td>\n",
       "      <td>90.7929</td>\n",
       "      <td>-64.3780</td>\n",
       "      <td>-59.05530</td>\n",
       "      <td>-24.72450</td>\n",
       "      <td>87.3616</td>\n",
       "      <td>-0.279365</td>\n",
       "      <td>-2.399290</td>\n",
       "      <td>...</td>\n",
       "      <td>34.379000</td>\n",
       "      <td>39.843000</td>\n",
       "      <td>32.344700</td>\n",
       "      <td>52.62490</td>\n",
       "      <td>0.581326</td>\n",
       "      <td>0.858883</td>\n",
       "      <td>1</td>\n",
       "      <td>91.2226</td>\n",
       "      <td>88.5463</td>\n",
       "      <td>479.1510</td>\n",
       "    </tr>\n",
       "    <tr>\n",
       "      <th>101</th>\n",
       "      <td>201196</td>\n",
       "      <td>340900299</td>\n",
       "      <td>-11</td>\n",
       "      <td>157.9410</td>\n",
       "      <td>-35.8646</td>\n",
       "      <td>24.02100</td>\n",
       "      <td>-151.92800</td>\n",
       "      <td>43.1657</td>\n",
       "      <td>-1.971100</td>\n",
       "      <td>2.551450</td>\n",
       "      <td>...</td>\n",
       "      <td>-18.260600</td>\n",
       "      <td>29.033400</td>\n",
       "      <td>-14.890900</td>\n",
       "      <td>34.29850</td>\n",
       "      <td>-0.421559</td>\n",
       "      <td>2.132230</td>\n",
       "      <td>1</td>\n",
       "      <td>90.1217</td>\n",
       "      <td>94.8126</td>\n",
       "      <td>187.5770</td>\n",
       "    </tr>\n",
       "    <tr>\n",
       "      <th>102</th>\n",
       "      <td>201196</td>\n",
       "      <td>134355928</td>\n",
       "      <td>11</td>\n",
       "      <td>79.7758</td>\n",
       "      <td>-31.3442</td>\n",
       "      <td>17.20480</td>\n",
       "      <td>-71.31420</td>\n",
       "      <td>35.7556</td>\n",
       "      <td>-1.441170</td>\n",
       "      <td>2.639600</td>\n",
       "      <td>...</td>\n",
       "      <td>-37.106200</td>\n",
       "      <td>-22.825300</td>\n",
       "      <td>16.382100</td>\n",
       "      <td>43.56450</td>\n",
       "      <td>0.367700</td>\n",
       "      <td>-2.590120</td>\n",
       "      <td>-1</td>\n",
       "      <td>90.4200</td>\n",
       "      <td>93.2227</td>\n",
       "      <td>205.8010</td>\n",
       "    </tr>\n",
       "    <tr>\n",
       "      <th>103</th>\n",
       "      <td>201202</td>\n",
       "      <td>290344628</td>\n",
       "      <td>11</td>\n",
       "      <td>414.1580</td>\n",
       "      <td>14.2734</td>\n",
       "      <td>80.08310</td>\n",
       "      <td>-406.09100</td>\n",
       "      <td>81.3452</td>\n",
       "      <td>-2.310910</td>\n",
       "      <td>1.394420</td>\n",
       "      <td>...</td>\n",
       "      <td>-6.148160</td>\n",
       "      <td>-26.935000</td>\n",
       "      <td>0.713109</td>\n",
       "      <td>27.62780</td>\n",
       "      <td>0.025808</td>\n",
       "      <td>-1.795210</td>\n",
       "      <td>-1</td>\n",
       "      <td>91.1415</td>\n",
       "      <td>91.5038</td>\n",
       "      <td>680.2000</td>\n",
       "    </tr>\n",
       "  </tbody>\n",
       "</table>\n",
       "<p>278 rows × 41 columns</p>\n",
       "</div>"
      ],
      "text/plain": [
       "        Run       Event  PID1        E1      px1       py1        pz1  \\\n",
       "0    167675   876658967   -11   46.2967 -45.4721  -8.61010   -1.24072   \n",
       "1    173243    16706390    11  352.0970 -58.3284  -8.93069  347.11700   \n",
       "2    171106   141954801    11   49.6757  -8.9885  44.24350  -20.72180   \n",
       "3    163758   113529826   -11  112.0390 -19.2226  25.67490  107.35000   \n",
       "4    172952   842265702   -11   87.6280  41.7576  11.55910  -76.16670   \n",
       "..      ...         ...   ...       ...      ...       ...        ...   \n",
       "99   200091  1605749984    11   14.1546  11.1802  -8.48591    1.82908   \n",
       "100  200188   309219190   -11   90.7929 -64.3780 -59.05530  -24.72450   \n",
       "101  201196   340900299   -11  157.9410 -35.8646  24.02100 -151.92800   \n",
       "102  201196   134355928    11   79.7758 -31.3442  17.20480  -71.31420   \n",
       "103  201202   290344628    11  414.1580  14.2734  80.08310 -406.09100   \n",
       "\n",
       "         pt1      eta1      phi1  ...        px4        py4        pz4  \\\n",
       "0    46.2801 -0.026806 -2.954460  ...  -0.091305   7.280830  -2.077270   \n",
       "1    59.0081  2.472280 -2.989660  ...   7.339310 -25.118200 -12.088100   \n",
       "2    45.1473 -0.444228  1.771230  ... -36.407800   0.928434  -2.835530   \n",
       "3    32.0735  1.922810  2.213460  ...   3.981140   6.144260   9.806040   \n",
       "4    43.3279 -1.329820  0.270053  ...  -0.119199  -9.074940 -25.091200   \n",
       "..       ...       ...       ...  ...        ...        ...        ...   \n",
       "99   14.0360  0.129948 -0.649243  ...   9.249230 -12.496400  -7.658040   \n",
       "100  87.3616 -0.279365 -2.399290  ...  34.379000  39.843000  32.344700   \n",
       "101  43.1657 -1.971100  2.551450  ... -18.260600  29.033400 -14.890900   \n",
       "102  35.7556 -1.441170  2.639600  ... -37.106200 -22.825300  16.382100   \n",
       "103  81.3452 -2.310910  1.394420  ...  -6.148160 -26.935000   0.713109   \n",
       "\n",
       "          pt4      eta4      phi4  Q4      mZ1      mZ2         M  \n",
       "0     7.28140 -0.281549  1.583340  -1  91.9271  27.3974  125.5280  \n",
       "1    26.16850 -0.446908 -1.286520  -1  91.4178  92.9952  285.9600  \n",
       "2    36.41960 -0.077779  3.116100   1  91.5484  87.7217  186.9150  \n",
       "3     7.32130  1.102240  0.995867  -1  70.4304  20.1941  100.9230  \n",
       "4     9.07572 -1.741270 -1.583930  -1  68.6352  20.0945   95.4259  \n",
       "..        ...       ...       ...  ..      ...      ...       ...  \n",
       "99   15.54700 -0.474560 -0.933628   1  92.3019  34.3236  129.9130  \n",
       "100  52.62490  0.581326  0.858883   1  91.2226  88.5463  479.1510  \n",
       "101  34.29850 -0.421559  2.132230   1  90.1217  94.8126  187.5770  \n",
       "102  43.56450  0.367700 -2.590120  -1  90.4200  93.2227  205.8010  \n",
       "103  27.62780  0.025808 -1.795210  -1  91.1415  91.5038  680.2000  \n",
       "\n",
       "[278 rows x 41 columns]"
      ]
     },
     "execution_count": 3,
     "metadata": {},
     "output_type": "execute_result"
    }
   ],
   "source": [
    "# Aperçu de quelques évènements\n",
    "data"
   ]
  },
  {
   "cell_type": "markdown",
   "id": "b32cff92",
   "metadata": {},
   "source": [
    "Les données comportent des informations sur les 4 leptons reconstruits dans le détecteur suite à chaque collision effectuée (chaque évènement : _Event_). La variable M correspond à la masse invariante du système formé par les 4 leptons. Elle correspond donc également à la masse invariante du système dans l'état initial : la particule s'étant désintégrée en 4 leptons.\n",
    "\n",
    "Préparons ci-dessous un histogramme (nommé hData) de la masse invariante du système formé par les 4 leptons de l'état final. Pour cette activité, nous pouvons nous concentrer sur l'intervalle de masse suivant : **[70, 181]** GeV/$c^2$ et définir **37** classes (_bins_).\n",
    "\n",
    "**Complétez la cellule suivante avec ces valeurs de minimum, maximum, et nombre de _bins_.**"
   ]
  },
  {
   "cell_type": "code",
   "execution_count": 4,
   "id": "dce73af3",
   "metadata": {},
   "outputs": [],
   "source": [
    "# À COMPLÉTER\n",
    "#rmin =    # masse minimale\n",
    "#rmax =    # masse maximale\n",
    "#nbins =   # nombre de bins\n",
    "\n",
    "# Correction\n",
    "rmin = 70\n",
    "rmax = 181\n",
    "nbins = 37\n",
    "\n",
    "M_hist = np.histogram(data['M'], bins = nbins, range = (rmin,rmax))\n",
    "\n",
    "hData, bins = M_hist\n",
    "\n",
    "# Extraction de la largeur et du centre des bins obtenus \n",
    "# afin d'aligner les autres histogrammes que nous allons produire.\n",
    "width = 1.0*(bins[1] - bins[0])\n",
    "center = (bins[:-1] + bins[1:]) / 2\n",
    "\n",
    "#print(width, \" \", center)"
   ]
  },
  {
   "cell_type": "markdown",
   "id": "fcd0479b",
   "metadata": {},
   "source": [
    "Avant de tracer cet histogramme et visualiser la masse invariante obtenue expérimentalement, examinons les prédictions théoriques. C'est un point fondamental dans la méthodologie suivie en physique des particules. "
   ]
  },
  {
   "cell_type": "markdown",
   "id": "1fb4d4f2",
   "metadata": {},
   "source": [
    "## 2) Prédictions théoriques"
   ]
  },
  {
   "cell_type": "markdown",
   "id": "0ed0c6af",
   "metadata": {},
   "source": [
    "Nous listons l'ensemble des processus physiques pouvant produire la signature étudiée : \n",
    "les états finaux {$ e^+ e^- e^+ e^- $}, {$ \\mu^+ \\mu^- \\mu^+ \\mu^- $}, {$ e^+ e^- \\mu^+ \\mu^- $}.\n",
    "Il peut s'agir de vrais leptons, ou d'autres particules identifiées par erreur comme des leptons.\n",
    "L'avantage majeur de ce canal de désintégration est sa pureté attendue : la théorie prédit très peu d'évènements de bruit de fond dans ce canal. Ainsi, l'analyse bénéficie d'un excellent \"rapport signal sur bruit\".\n",
    "\n",
    "Pour mettre en évidence expérimentalement le boson de Higgs, la distribution de masse invariante observée doit être :\n",
    "- incompatible avec une fluctuation statistique du bruit de fond total prédit ;\n",
    "- compatible avec le signal prédit.\n",
    "\n",
    "Les prédictions sont réalisées au moyen de méthodes de _Monte Carlo_, des tirages aléatoires élaborés qui simulent la collision de protons, le processus de physique principal (p.e. production d'un boson), la désintégration des particules instables, la détection des produits de désintégration et le fonctionnement du détecteur. Les mêmes algorithmes de reconstruction et d'identification de particules sont appliqués aux données expérimentales et simulées.\n",
    "\n",
    "Les performances des algorithmes utilisés sont étudiées dans les données expérimentales à partir de processus bien connus (p.e. $Z\\rightarrow \\ell^+\\ell^-$), et exploitées pour corriger les prédictions effectuées par les simulations en pondérant les évènements simulés.\n",
    "Cette pondération modifie la forme, mais aussi la norme des distributions obtenues afin qu'elle corresponde à l'intensité et à la durée des collisions effectuées expérimentalement.\n",
    "\n",
    "_Remarque : le boson Z sert notamment de \"chandelle standard\" (expression empruntée à l'astronomie) : il a été étudié expérimentalement avec une telle précision qu'il sert désormais de référence dans de nombreuses études de performance._"
   ]
  },
  {
   "cell_type": "markdown",
   "id": "f3cb6c21",
   "metadata": {},
   "source": [
    "### 2.1) Échantillons simulés\n",
    "\n",
    "Les listes de nombres ci-dessous proviennent d'échantillons simulés : trois processus de bruit de fond (Drell-Yan, paire de quarks top, paire de bosons Z) et un processus de signal (boson de Higgs de masse égale à 125 GeV/$c^2$ dans le canal de désintégration $H \\rightarrow ZZ \\rightarrow 4\\ell$). Dans chaque liste, chaque valeur correspond au nombre d'évènements prédits dans le _bin_ de masse invariante considéré, après pondération, comme décrit précédemment. \n",
    "\n",
    "_Remarque : C'est l'effet de cette pondération qui donne lieu à des nombres décimaux positifs parfois compris entre 0 et 1. Ces nombres augmentent avec la durée des collisions effectuées et leur intensité (nommée \"luminosité instantanée\"). Ainsi un nombre très proche de 0 indique qu'il est peu probable d'observer un évènement dans le _bin_ de masse invariante correspondant._"
   ]
  },
  {
   "cell_type": "code",
   "execution_count": 5,
   "id": "33473f43",
   "metadata": {},
   "outputs": [],
   "source": [
    "# Bruits de fond #\n",
    "\n",
    "# Drell-Yan\n",
    "dy = np.array([0,0,0,0,0,0.354797,0.177398,2.60481,0,0,0,0,0,0,0,0,0,0.177398,0.177398,0,0.177398,0,0,0,0,0,0,0,0,0,0,0,0.177398,0,0,0,0])\n",
    "\n",
    "# Paire de quarks top\n",
    "ttbar = np.array([0.00465086,0,0.00465086,0,0,0,0,0,0,0,0.00465086,0,0,0,0,0,0.00465086,0,0,0,0,0.00465086,0.00465086,0,0,0.0139526,0,0,0.00465086,0,0,0,0.00465086,0.00465086,0.0139526,0,0])\n",
    "\n",
    "# Paire de bosons Z\n",
    "zz = np.array([0.181215,0.257161,0.44846,0.830071,1.80272,4.57354,13.9677,14.0178,4.10974,1.58934,0.989974,0.839775,0.887188,0.967021,1.07882,1.27942,1.36681,1.4333,1.45141,1.41572,1.51464,1.45026,1.47328,1.42899,1.38757,1.33561,1.3075,1.29831,1.31402,1.30672,1.36442,1.39256,1.43472,1.58321,1.85313,2.19304,2.95083])\n",
    "\n",
    "\n",
    "# Signal #\n",
    "\n",
    "# Boson de Higgs de masse 125 GeV/c2\n",
    "hzz = np.array([0.00340992,0.00450225,0.00808944,0.0080008,0.00801578,0.0108945,0.00794274,0.00950757,0.0130648,0.0163568,0.0233832,0.0334813,0.0427229,0.0738129,0.13282,0.256384,0.648352,2.38742,4.87193,0.944299,0.155005,0.0374193,0.0138906,0.00630364,0.00419265,0.00358719,0.00122527,0.000885718,0.000590479,0.000885718,0.000797085,8.86337e-05,0.000501845,8.86337e-05,0.000546162,4.43168e-05,8.86337e-05])"
   ]
  },
  {
   "cell_type": "markdown",
   "id": "e51e72f1",
   "metadata": {},
   "source": [
    "### 2.2) Distributions de masse invariante des bruits de fond\n",
    "\n",
    "Nous pouvons maintenant tracer la distribution de masse invariante prédite pour chaque processus de bruit de fond. Dans l'expérience CMS, les prédictions sont souvent représentées par des diagrammes en barre, et les données par des points.\n",
    "\n",
    "**Complétez chaque cellule ci-dessous avec le nom de la liste de valeurs définies à la cellule précédente et les limites de l'intervalle en masse définies dans la partie 1.**"
   ]
  },
  {
   "cell_type": "code",
   "execution_count": 6,
   "id": "f15ecb69",
   "metadata": {
    "scrolled": true
   },
   "outputs": [
    {
     "data": {
      "image/png": "[encoded data removed]",
      "text/plain": [
       "<Figure size 1080x216 with 1 Axes>"
      ]
     },
     "metadata": {
      "needs_background": "light"
     },
     "output_type": "display_data"
    }
   ],
   "source": [
    "# BRUIT DE FOND 1 : PAIRE DE BOSONS Z #\n",
    "\n",
    "plt.figure(figsize = (15,3))\n",
    "\n",
    "# À COMPLÉTER #\n",
    "# Diagramme en barres : processus \"Paire de bosons Z\"\n",
    "plt.bar(center, zz, align = 'center', width = width, color = 'b', linewidth = 0, edgecolor = 'black', alpha = 0.5)\n",
    "#\n",
    "# Intervalle de masse invariante\n",
    "plt.xlim(rmin,rmax)\n",
    "\n",
    "plt.xlabel('4$\\ell$ invariant mass (GeV/$c^2$)', fontsize = 15)\n",
    "plt.ylabel('Events / 3 GeV/$c^2$\\n', fontsize = 15)\n",
    "plt.show()"
   ]
  },
  {
   "cell_type": "markdown",
   "id": "1748528e",
   "metadata": {},
   "source": [
    "Vous devez pouvoir observer un pic autour de la masse du boson Z (91 GeV/$c^2$), un intervalle où la distribution est quelque peu plate, puis à nouveau le début d'un pic autoure de deux fois la masse du boson Z. En effet, le boson Z peut être produit \"hors couche de masse\", c'est-à-dire avec une déviation dans la valeur de sa masse (voir activité du niveau 3). Chaque boson Z se désintègre en paire de leptons."
   ]
  },
  {
   "cell_type": "code",
   "execution_count": 7,
   "id": "fe99f2a6",
   "metadata": {
    "scrolled": true
   },
   "outputs": [
    {
     "data": {
      "image/png": "[encoded data removed]",
      "text/plain": [
       "<Figure size 1080x216 with 1 Axes>"
      ]
     },
     "metadata": {
      "needs_background": "light"
     },
     "output_type": "display_data"
    }
   ],
   "source": [
    "# BRUIT DE FOND 2 : PROCESSUS DRELL-YAN #\n",
    "\n",
    "plt.figure(figsize = (15,3))\n",
    "\n",
    "# À COMPLÉTER #\n",
    "# Diagramme en barres : processus \"Drell-Yan\"\n",
    "plt.bar(center, dy, align = 'center', width = width, color = 'g', linewidth = 0, edgecolor = 'black', alpha = 0.5)\n",
    "#\n",
    "# Intervalle de masse invariante\n",
    "plt.xlim(rmin,rmax)\n",
    "\n",
    "plt.xlabel('4$\\ell$ invariant mass (GeV/$c^2$)', fontsize = 15)\n",
    "plt.ylabel('Events / 3 GeV/$c^2$\\n', fontsize = 15)\n",
    "plt.show()"
   ]
  },
  {
   "cell_type": "markdown",
   "id": "3f0757a7",
   "metadata": {},
   "source": [
    "Vous devez pouvoir observer un pic autour de la masse du boson Z, car ce processus peut produire, entre autres, un boson Z, qui se désintègre de façon indirecte en 4 leptons."
   ]
  },
  {
   "cell_type": "code",
   "execution_count": 8,
   "id": "04142d4a",
   "metadata": {},
   "outputs": [
    {
     "data": {
      "image/png": "[encoded data removed]",
      "text/plain": [
       "<Figure size 1080x216 with 1 Axes>"
      ]
     },
     "metadata": {
      "needs_background": "light"
     },
     "output_type": "display_data"
    }
   ],
   "source": [
    "# BRUIT DE FOND 3 : PAIRE DE QUARKS TOP #\n",
    "\n",
    "plt.figure(figsize = (15,3))\n",
    "\n",
    "# À COMPLÉTER #\n",
    "# Diagramme en barres : processus \"Paire de quarks top\"\n",
    "plt.bar(center, ttbar, align = 'center', width = width, color = 'gray', linewidth = 0, edgecolor = 'b', alpha = 0.5)\n",
    "#\n",
    "# Intervalle de masse invariante\n",
    "plt.xlim(rmin,rmax)\n",
    "\n",
    "plt.xlabel('4$\\ell$ invariant mass (GeV/$c^2$)', fontsize = 15)\n",
    "plt.ylabel('Events / 3 GeV/$c^2$ \\n', fontsize = 15)\n",
    "plt.show()"
   ]
  },
  {
   "cell_type": "markdown",
   "id": "e8ab0e7a",
   "metadata": {},
   "source": [
    "On observe quelques évènements. Les quarks top ont une chaîne de désintégration en plusieurs étapes, qui produit toutes sortes de particules, dont des leptons."
   ]
  },
  {
   "cell_type": "markdown",
   "id": "5650e397",
   "metadata": {},
   "source": [
    "### 2.3) Superposition des bruits de fond\n",
    "\n",
    "Visualisons maintenant la distribution de masse invariante produite par l'ensemble des processus de bruits de fond.\n",
    "\n",
    "**Complétez à nouveau chaque appel de la fonction \"plt.bar\" avec le nom de la liste de valeurs correspondante définie à la section 2.1.**"
   ]
  },
  {
   "cell_type": "code",
   "execution_count": 9,
   "id": "b6ac825c",
   "metadata": {
    "scrolled": false
   },
   "outputs": [
    {
     "data": {
      "image/png": "[encoded data removed]",
      "text/plain": [
       "<Figure size 1080x360 with 1 Axes>"
      ]
     },
     "metadata": {
      "needs_background": "light"
     },
     "output_type": "display_data"
    }
   ],
   "source": [
    "plt.figure(figsize = (15,5))\n",
    "\n",
    "# À COMPLÉTER #\n",
    "\n",
    "# Intervalle de masse\n",
    "plt.xlim(rmin,rmax)\n",
    "plt.ylim(0,25)\n",
    "\n",
    "# Processus : paire de quarks top\n",
    "ttbar_bar = plt.bar(center, ttbar, align = 'center', width = width, color = 'gray', linewidth = 0, edgecolor = 'b',\n",
    "                    alpha = 0.5, label = r'$t\\bar{t}$')\n",
    "\n",
    "# Processus : Drell-Yan\n",
    "dy_bar = plt.bar(center, dy, align = 'center', width = width, color = 'g', linewidth = 0, edgecolor = 'black',\n",
    "                 alpha = 0.5, bottom = ttbar, label = 'Z/$\\gamma^{*}$ + X')\n",
    "\n",
    "# Processus : Paire de bosons Z\n",
    "zz_bar = plt.bar(center, zz, align = 'center', width = width, color = 'b', linewidth = 0, edgecolor = 'black',\n",
    "                 alpha = 0.5, bottom = ttbar+dy, label = r'ZZ $\\rightarrow$ 4l')\n",
    "\n",
    "# Titres\n",
    "plt.title('$ \\sqrt{s} = 7$ TeV, L = 2.3 $fb^{-1}$; $\\sqrt{s} = 8$ TeV, L = 11.6 $fb^{-1}$ \\n', fontsize = 12)\n",
    "plt.xlabel('$m_{4\\ell}$ (GeV/$c^2$)', fontsize = 15)\n",
    "plt.ylabel('Events / 3 GeV/$c^2$\\n', fontsize = 15)\n",
    "\n",
    "# Ajouter une légende incluant les informations indiquées par la variable \"label\" de la fonction \"plt.bar()\"\n",
    "plt.legend(fontsize = 15)\n",
    "\n",
    "plt.show()"
   ]
  },
  {
   "cell_type": "markdown",
   "id": "7379f0d1",
   "metadata": {},
   "source": [
    "### 2.4) Signal\n",
    "\n",
    "Nous pouvons maintenant visualiser la distribution de masse invariante prédite théoriquement pour un boson de Higgs de masse égale à 125 GeV/$c^2$."
   ]
  },
  {
   "cell_type": "code",
   "execution_count": 10,
   "id": "99ab77a7",
   "metadata": {
    "scrolled": true
   },
   "outputs": [
    {
     "data": {
      "image/png": "[encoded data removed]",
      "text/plain": [
       "<Figure size 1080x216 with 1 Axes>"
      ]
     },
     "metadata": {
      "needs_background": "light"
     },
     "output_type": "display_data"
    }
   ],
   "source": [
    "# Processus : signal H --> ZZ --> 4 leptons\n",
    "\n",
    "plt.figure(figsize = (15,3))\n",
    "plt.bar(center, hzz, align = 'center', width = width, color = 'w', linewidth = 1, edgecolor = 'r')\n",
    "\n",
    "plt.xlabel('4l invariant mass (GeV/$c^2$)', fontsize = 15)\n",
    "plt.ylabel('Events / 3 GeV/$c^2$\\n', fontsize = 15)\n",
    "plt.xlim(rmin,rmax)\n",
    "plt.show()"
   ]
  },
  {
   "cell_type": "markdown",
   "id": "5481e481",
   "metadata": {},
   "source": [
    "Nous observons bien un pic autour de la valeur nominale de la masse choisie pour cette prédiction théorique. Rappelons ici que la largeur de cette distribution est due à deux effets combinés (voir Niveau 3) :\n",
    "- la \"largeur naturelle\", qui correspond aux fluctuations quantiques sur la masse d'une particule ;\n",
    "- la résolution expérimentale sur la mesure de la masse invariante."
   ]
  },
  {
   "cell_type": "markdown",
   "id": "f47666ca",
   "metadata": {},
   "source": [
    "## 3) Comparaison entre observations et prédictions\n",
    "\n",
    "Nous allons étudier la compatibilité entre les nombres d'évènements observés et prédits. À cette fin, nous allons compléter les points de données expérimentales par des barres d'erreur horizontales (largeur des _bins_) et verticales. Ces dernières correspondent à l'incertitude sur le nombre d'évènements obtenus dans chaque _bin_.\n",
    "\n",
    "Les collisions de particules présentent une nature stochastique, décrite par des distributions de probabilité suivant les propriétés quantiques et les variables cinématiques des particules entrantes, échangées et sortantes impliquées dans le processus.\n",
    "\n",
    "Pour une intensité et une durée de collisions fixées, le nombre d'évènements obtenus dans un intervalle de masse invariante donné est une variable aléatoire discrète. La distribution de probabilité correspondante est la loi de Poisson, pour laquelle la variance est égale à la moyenne. Ainsi, on considèrera qu'un nombre d'évènements N est issu d'une distribution de Poisson de moyenne N et d'écart type $\\sqrt{N}$.\n",
    "\n",
    "### 3.1) Distribution de masse invariante\n",
    "\n",
    "**Complétez à nouveau chaque appel de la fonction \"plt.bar\" avec le nom de la liste de valeurs correspondante définie à la section 2.1. Complétez également le calcul des erreurs verticales \"yerrs\" en appliquant la fonction \"np.sqrt()\" à l'histogramme \"hData\".**"
   ]
  },
  {
   "cell_type": "code",
   "execution_count": 11,
   "id": "220b0a20",
   "metadata": {
    "scrolled": true
   },
   "outputs": [
    {
     "data": {
      "image/png": "[encoded data removed]",
      "text/plain": [
       "<Figure size 1080x360 with 1 Axes>"
      ]
     },
     "metadata": {
      "needs_background": "light"
     },
     "output_type": "display_data"
    }
   ],
   "source": [
    "plt.figure(figsize = (15,5))\n",
    "\n",
    "# À COMPLÉTER : 4 appels à \"plt.bar()\" ci-dessous #\n",
    "\n",
    "# Processus : paire de quarks top\n",
    "ttbar_bar = plt.bar(center, ttbar, align = 'center', width = width, color = 'gray', linewidth = 0, edgecolor = 'b',\n",
    "                    alpha = 0.5, label = r'$t\\bar{t}$')\n",
    "\n",
    "# Processus : Drell-Yan\n",
    "dy_bar = plt.bar(center, dy, align = 'center', width = width, color = 'g', linewidth = 0, edgecolor = 'black',\n",
    "                 alpha = 0.5, bottom = ttbar, label = 'Z/$\\gamma^{*}$ + X')\n",
    "\n",
    "# Processus : Paire de bosons Z\n",
    "zz_bar = plt.bar(center, zz, align = 'center', width = width, color = 'b', linewidth = 0, edgecolor = 'black',\n",
    "                 alpha = 0.5, bottom = ttbar+dy, label = r'ZZ $\\rightarrow$ 4l')\n",
    "\n",
    "# Processus : signal H --> ZZ --> 4 leptons\n",
    "hzz_bar = plt.bar(center, hzz, align = 'center', width = width, color = 'w', linewidth = 1, edgecolor = 'r',\n",
    "                  bottom = ttbar+dy+zz, label = '$m_{H}$ = 125 GeV/$c^2$')\n",
    "\n",
    "# DONNÉES EXPÉRIMENTALES #\n",
    "\n",
    "# barre d'erreur horizontale : largeur du bin\n",
    "xerrs = [width*0.5 for i in range(0, nbins)] \n",
    "\n",
    "# À COMPLÉTER : barre d'erreur verticale #\n",
    "yerrs = np.sqrt(hData)\n",
    "\n",
    "# Histogramme\n",
    "data_bar = plt.errorbar(center, hData, xerr = xerrs, yerr = yerrs, linestyle = 'None', color = 'black',\n",
    "                        marker = 'o', label = 'Data')\n",
    "\n",
    "# Titres, intervalles, légende\n",
    "plt.title('$ \\sqrt{s} = 7$ TeV, L = 2.3 $fb^{-1}$; $\\sqrt{s} = 8$ TeV, L = 11.6 $fb^{-1}$ \\n', fontsize = 12)\n",
    "plt.xlabel('$m_{4l}$ (GeV/$c^2$)', fontsize = 15)\n",
    "plt.ylabel('Events / 3 GeV/$c^2$\\n', fontsize = 15)\n",
    "plt.ylim(0,25)\n",
    "plt.xlim(rmin,rmax)\n",
    "plt.legend(fontsize = 15)\n",
    "\n",
    "plt.show()"
   ]
  },
  {
   "cell_type": "markdown",
   "id": "24bdc758",
   "metadata": {},
   "source": [
    "### 3.2) Interprétation statistique\n",
    "\n",
    "Nous pouvons maintenant comparer la compatibilité entre les nombres d'évènements observés et prédits dans deux hypothèses : \n",
    "- l'hypothèse du \"bruit de fond seul\", nommée généralement **\"hypothèse nulle\"** ;\n",
    "- l'hypothèse \"bruit de fond plus signal\".\n",
    "\n",
    "Nous allons étudier la compatibilité dans un intervalle de masse réduit : **[121, 130]** GeV/$c^2$.\n",
    "\n",
    "**Instructions :**\n",
    "1) Calculez la somme du nombre d'évènements où la masse invariante \"M\" prend une valeur appartenant à [120;130] pour chaque distribution (données, Drell-Yan, Paire de quarks top, Paire de bosons Z, signal HZZ).\n",
    "\n",
    "2) Sommez les nombres d'évènements de **bruit de fond**.\n",
    "\n",
    "3) Calculez l'incertitude Poissonienne sur le nombre d'évènements observés dans les données expérimentales.\n",
    "\n",
    "4) Évaluez la compatibilité entre les nombres d'évènements observés et prédits (bruit de fond uniquement) au moyen d'un z-score.\n",
    "\n",
    "5) Évaluez la compatibilité entre les nombres d'évènements observés et prédits (bruit de fond plus signal) au moyen d'un z-score."
   ]
  },
  {
   "cell_type": "code",
   "execution_count": 15,
   "id": "f4f7bfcc",
   "metadata": {
    "scrolled": true
   },
   "outputs": [
    {
     "name": "stdout",
     "output_type": "stream",
     "text": [
      "nData = 12\n",
      "Bin : [ 121.0 ; 124.0 ]\n",
      "Bin : [ 124.0 ; 127.0 ]\n",
      "Bin : [ 127.0 ; 130.0 ]\n",
      "n_dy = 0.354796  ; n_ttbar= 0.0  ; n_zz =  4.30043\n",
      "n_total_B =  4.655226000000001\n",
      "n_signal =  8.203648999999999\n",
      "\n",
      "\n",
      "HYPOTHÈSE H0 : Bruit de fond seul : zScore =  2.120253623018482\n",
      "HYPOTHÈSE H1 : Bruit de fond + signal : zScore =  0.24793585622511974\n"
     ]
    }
   ],
   "source": [
    "# Correction\n",
    "\n",
    "# Intervalle local\n",
    "localInf = 121 # À COMPLÉTER\n",
    "localSup = 130 # À COMPLÉTER\n",
    "\n",
    "# Données observées #\n",
    "nData = sum( (data['M']>=localInf) & (data['M']<=localSup) ) \n",
    "print(\"nData =\",nData)\n",
    "\n",
    "# Prédictions : bruit de fond seul #\n",
    "n_dy = n_zz = n_ttbar = n_total_B = n_signal = 0 # initialisation des compteurs à 0\n",
    "iBin = -1 # pour indexer les bins\n",
    "\n",
    "# boucle sur les centres des bins définis au début de l'activité\n",
    "for c in center:\n",
    "    iBin += 1                   # l'index des bins commence à 0\n",
    "    lowerEdge = c - width/2     # borne inférieure du bin\n",
    "    upperEdge = c + width/2     # borne supérieure du bin\n",
    "\n",
    "    # À COMPLÉTER : les bins doivent être compris dans l'intervalle de masse considéré\n",
    "    if(lowerEdge>=localInf and upperEdge<=localSup):\n",
    "        print(\"Bin : [\",lowerEdge, \";\", upperEdge, \"]\") # pour vérifier les bins inclus dans le calcul\n",
    "        n_dy     += dy[iBin]\n",
    "        n_ttbar  += ttbar[iBin]\n",
    "        n_zz     += zz[iBin]\n",
    "        n_signal += hzz[iBin]\n",
    "        \n",
    "# À COMPLÉTER : sommez les nombres d'évènements des processus de bruit de fond\n",
    "n_total_B = n_dy + n_ttbar + n_zz\n",
    "\n",
    "print(\"n_dy =\", n_dy, \" ; n_ttbar=\", n_ttbar, \" ; n_zz = \", n_zz)\n",
    "print(\"n_total_B = \", n_total_B)\n",
    "print(\"n_signal = \", n_signal)\n",
    "\n",
    "# À COMPLÉTER #\n",
    "\n",
    "# calcul de l'incertitude poissonienne sur nData\n",
    "uData = np.sqrt(nData)\n",
    "\n",
    "# calcul du z-score : bruit de fond seul\n",
    "zScore = abs(nData - n_total_B) / uData\n",
    "print(\"\\n\")\n",
    "print(\"HYPOTHÈSE H0 : Bruit de fond seul : zScore = \", zScore)\n",
    "\n",
    "# calcul du z-score : bruit de fond plus signal\n",
    "zScore = abs(nData - n_total_B - n_signal) / uData\n",
    "print(\"HYPOTHÈSE H1 : Bruit de fond + signal : zScore = \", zScore)"
   ]
  },
  {
   "cell_type": "markdown",
   "id": "3dbaa3a9",
   "metadata": {},
   "source": [
    "Afin d'interpréter ce z-score, nous allons calculer la probabilité d'observer ce nombre d'évènements dans les données expérimentales sous chaque hypothèse. Schématiquement, il s'agit des probabilités conditionnelles p(nData | H0) et p(nData | H1).\n",
    "\n",
    "Cette probabilité peut être évaluée en intégrant les queues d'une distribution normale (gaussienne de moyenne et d'écart-type égaux à 1) au-delà de \"zScore\" déviations standard.\n",
    "\n",
    "**Questions :**\n",
    "\n",
    "1) À quel niveau de probabilité peut-on exclure l'hypothèse H0 \"bruit de fond seul\" ?\n",
    "\n",
    "2) Peut-on exclure l'hypothèse \"bruit de fond + signal\" ?"
   ]
  },
  {
   "cell_type": "code",
   "execution_count": 13,
   "id": "26d69c6d",
   "metadata": {},
   "outputs": [],
   "source": [
    "# CODE POUR GAUSS INTEGRAL ? FIXME\n"
   ]
  },
  {
   "cell_type": "markdown",
   "id": "eb7d75c4",
   "metadata": {},
   "source": [
    "#### Épilogue\n",
    "\n",
    "En physique des particules, on considère deux seuils statistiques : 3 déviations standards pour une \"mise en évidence\" (_evidence_ en anglais, à ne pas confondre avec _proof_) et 5 déviations standards pour une découverte. Ces seuils correspondent respectivement à une probabilité de 0,3% et $3\\times 10^{-7}$ qu'une fluctuation statistique explique une déviation entre observation et prédiction.\n",
    "\n",
    "Nous ne disposons pour cette activité que d'un sous-ensemble des données enregistrées en 2011 (45%) et en 2012 (59%). De plus, l'analyse réelle emploie des méthodes de traitement de données et d'interprétation statistiques plus élaborés que l'approche simplifiée suivie ici. Celle-ci a essentiellement valeur d'illustration."
   ]
  }
 ],
 "metadata": {
  "kernelspec": {
   "display_name": "Python 3 (ipykernel)",
   "language": "python",
   "name": "python3"
  },
  "language_info": {
   "codemirror_mode": {
    "name": "ipython",
    "version": 3
   },
   "file_extension": ".py",
   "mimetype": "text/x-python",
   "name": "python",
   "nbconvert_exporter": "python",
   "pygments_lexer": "ipython3",
   "version": "3.7.5"
  }
 },
 "nbformat": 4,
 "nbformat_minor": 5
}
