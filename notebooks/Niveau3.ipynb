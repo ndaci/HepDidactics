{
 "cells": [
  {
   "cell_type": "markdown",
   "id": "8c71a35e",
   "metadata": {},
   "source": [
    "# Activité 3 - Étude de la résonance du boson Z"
   ]
  },
  {
   "cell_type": "markdown",
   "id": "4b85492c",
   "metadata": {},
   "source": [
    "## 1) Importation des outils et des données"
   ]
  },
  {
   "cell_type": "markdown",
   "id": "cf1069d8",
   "metadata": {},
   "source": [
    "Commençons par importer les outils d'analyse."
   ]
  },
  {
   "cell_type": "code",
   "execution_count": 2,
   "id": "62ffcbec",
   "metadata": {},
   "outputs": [],
   "source": [
    "# structures de données et outils d'analyse\n",
    "import pandas as pd \n",
    "\n",
    "# calcul scientifique\n",
    "import numpy as np\n",
    "\n",
    "# production de graphiques (\"plots\" en anglais)\n",
    "import matplotlib.pyplot as plt"
   ]
  },
  {
   "cell_type": "markdown",
   "id": "198490eb",
   "metadata": {},
   "source": [
    "Importez les données du fichier \"data/Zmumu__DoubleMu2011.csv\""
   ]
  },
  {
   "cell_type": "code",
   "execution_count": 3,
   "id": "28bae726",
   "metadata": {},
   "outputs": [],
   "source": [
    "# Importation des données du fichier csv\n",
    "data = pd.read_csv('data/Zmumu__DoubleMu2011.csv')"
   ]
  },
  {
   "cell_type": "markdown",
   "id": "a3e052d1",
   "metadata": {},
   "source": [
    "Visualisez les 5 premières lignes puis les 5 dernières pour avoir une idée de ce que contiennent vos données."
   ]
  },
  {
   "cell_type": "code",
   "execution_count": 15,
   "id": "6412b65b",
   "metadata": {},
   "outputs": [
    {
     "data": {
      "text/html": [
       "<div>\n",
       "<style scoped>\n",
       "    .dataframe tbody tr th:only-of-type {\n",
       "        vertical-align: middle;\n",
       "    }\n",
       "\n",
       "    .dataframe tbody tr th {\n",
       "        vertical-align: top;\n",
       "    }\n",
       "\n",
       "    .dataframe thead th {\n",
       "        text-align: right;\n",
       "    }\n",
       "</style>\n",
       "<table border=\"1\" class=\"dataframe\">\n",
       "  <thead>\n",
       "    <tr style=\"text-align: right;\">\n",
       "      <th></th>\n",
       "      <th>Run</th>\n",
       "      <th>Event</th>\n",
       "      <th>pt1</th>\n",
       "      <th>eta1</th>\n",
       "      <th>phi1</th>\n",
       "      <th>Q1</th>\n",
       "      <th>dxy1</th>\n",
       "      <th>iso1</th>\n",
       "      <th>pt2</th>\n",
       "      <th>eta2</th>\n",
       "      <th>phi2</th>\n",
       "      <th>Q2</th>\n",
       "      <th>dxy2</th>\n",
       "      <th>iso2</th>\n",
       "    </tr>\n",
       "  </thead>\n",
       "  <tbody>\n",
       "    <tr>\n",
       "      <th>0</th>\n",
       "      <td>165617</td>\n",
       "      <td>74969122</td>\n",
       "      <td>54.7055</td>\n",
       "      <td>-0.4324</td>\n",
       "      <td>2.5742</td>\n",
       "      <td>1</td>\n",
       "      <td>-0.0745</td>\n",
       "      <td>0.4999</td>\n",
       "      <td>34.2464</td>\n",
       "      <td>-0.9885</td>\n",
       "      <td>-0.4987</td>\n",
       "      <td>-1</td>\n",
       "      <td>0.0712</td>\n",
       "      <td>3.4221</td>\n",
       "    </tr>\n",
       "    <tr>\n",
       "      <th>1</th>\n",
       "      <td>165617</td>\n",
       "      <td>75138253</td>\n",
       "      <td>24.5872</td>\n",
       "      <td>-2.0522</td>\n",
       "      <td>2.8666</td>\n",
       "      <td>-1</td>\n",
       "      <td>-0.0554</td>\n",
       "      <td>0.0000</td>\n",
       "      <td>28.5389</td>\n",
       "      <td>0.3852</td>\n",
       "      <td>-1.9912</td>\n",
       "      <td>1</td>\n",
       "      <td>0.0515</td>\n",
       "      <td>0.0000</td>\n",
       "    </tr>\n",
       "    <tr>\n",
       "      <th>2</th>\n",
       "      <td>165617</td>\n",
       "      <td>75887636</td>\n",
       "      <td>31.7386</td>\n",
       "      <td>-2.2595</td>\n",
       "      <td>-1.3323</td>\n",
       "      <td>-1</td>\n",
       "      <td>0.0879</td>\n",
       "      <td>0.0000</td>\n",
       "      <td>30.2344</td>\n",
       "      <td>-0.4684</td>\n",
       "      <td>1.8833</td>\n",
       "      <td>1</td>\n",
       "      <td>-0.0876</td>\n",
       "      <td>0.0000</td>\n",
       "    </tr>\n",
       "    <tr>\n",
       "      <th>3</th>\n",
       "      <td>165617</td>\n",
       "      <td>75779415</td>\n",
       "      <td>39.7394</td>\n",
       "      <td>-0.7123</td>\n",
       "      <td>-0.3123</td>\n",
       "      <td>1</td>\n",
       "      <td>0.0585</td>\n",
       "      <td>0.0000</td>\n",
       "      <td>48.2790</td>\n",
       "      <td>-0.1956</td>\n",
       "      <td>2.9703</td>\n",
       "      <td>-1</td>\n",
       "      <td>-0.0492</td>\n",
       "      <td>0.0000</td>\n",
       "    </tr>\n",
       "    <tr>\n",
       "      <th>4</th>\n",
       "      <td>165617</td>\n",
       "      <td>75098104</td>\n",
       "      <td>41.2998</td>\n",
       "      <td>-0.1571</td>\n",
       "      <td>-3.0408</td>\n",
       "      <td>1</td>\n",
       "      <td>-0.0305</td>\n",
       "      <td>1.2280</td>\n",
       "      <td>43.4508</td>\n",
       "      <td>0.5910</td>\n",
       "      <td>-0.0428</td>\n",
       "      <td>-1</td>\n",
       "      <td>0.0442</td>\n",
       "      <td>0.0000</td>\n",
       "    </tr>\n",
       "  </tbody>\n",
       "</table>\n",
       "</div>"
      ],
      "text/plain": [
       "      Run     Event      pt1    eta1    phi1  Q1    dxy1    iso1      pt2  \\\n",
       "0  165617  74969122  54.7055 -0.4324  2.5742   1 -0.0745  0.4999  34.2464   \n",
       "1  165617  75138253  24.5872 -2.0522  2.8666  -1 -0.0554  0.0000  28.5389   \n",
       "2  165617  75887636  31.7386 -2.2595 -1.3323  -1  0.0879  0.0000  30.2344   \n",
       "3  165617  75779415  39.7394 -0.7123 -0.3123   1  0.0585  0.0000  48.2790   \n",
       "4  165617  75098104  41.2998 -0.1571 -3.0408   1 -0.0305  1.2280  43.4508   \n",
       "\n",
       "     eta2    phi2  Q2    dxy2    iso2  \n",
       "0 -0.9885 -0.4987  -1  0.0712  3.4221  \n",
       "1  0.3852 -1.9912   1  0.0515  0.0000  \n",
       "2 -0.4684  1.8833   1 -0.0876  0.0000  \n",
       "3 -0.1956  2.9703  -1 -0.0492  0.0000  \n",
       "4  0.5910 -0.0428  -1  0.0442  0.0000  "
      ]
     },
     "execution_count": 15,
     "metadata": {},
     "output_type": "execute_result"
    }
   ],
   "source": [
    "# Aperçu des 5 premières lignes\n",
    "data.head()"
   ]
  },
  {
   "cell_type": "code",
   "execution_count": 17,
   "id": "62458114",
   "metadata": {},
   "outputs": [
    {
     "data": {
      "text/html": [
       "<div>\n",
       "<style scoped>\n",
       "    .dataframe tbody tr th:only-of-type {\n",
       "        vertical-align: middle;\n",
       "    }\n",
       "\n",
       "    .dataframe tbody tr th {\n",
       "        vertical-align: top;\n",
       "    }\n",
       "\n",
       "    .dataframe thead th {\n",
       "        text-align: right;\n",
       "    }\n",
       "</style>\n",
       "<table border=\"1\" class=\"dataframe\">\n",
       "  <thead>\n",
       "    <tr style=\"text-align: right;\">\n",
       "      <th></th>\n",
       "      <th>Run</th>\n",
       "      <th>Event</th>\n",
       "      <th>pt1</th>\n",
       "      <th>eta1</th>\n",
       "      <th>phi1</th>\n",
       "      <th>Q1</th>\n",
       "      <th>dxy1</th>\n",
       "      <th>iso1</th>\n",
       "      <th>pt2</th>\n",
       "      <th>eta2</th>\n",
       "      <th>phi2</th>\n",
       "      <th>Q2</th>\n",
       "      <th>dxy2</th>\n",
       "      <th>iso2</th>\n",
       "    </tr>\n",
       "  </thead>\n",
       "  <tbody>\n",
       "    <tr>\n",
       "      <th>9995</th>\n",
       "      <td>173692</td>\n",
       "      <td>1245050481</td>\n",
       "      <td>8.9721</td>\n",
       "      <td>-1.6158</td>\n",
       "      <td>-2.7176</td>\n",
       "      <td>1</td>\n",
       "      <td>-0.0294</td>\n",
       "      <td>8.7183</td>\n",
       "      <td>13.5266</td>\n",
       "      <td>1.8709</td>\n",
       "      <td>2.7911</td>\n",
       "      <td>1</td>\n",
       "      <td>-0.0689</td>\n",
       "      <td>0.4202</td>\n",
       "    </tr>\n",
       "    <tr>\n",
       "      <th>9996</th>\n",
       "      <td>173692</td>\n",
       "      <td>1244979327</td>\n",
       "      <td>39.4543</td>\n",
       "      <td>-1.1310</td>\n",
       "      <td>-2.0568</td>\n",
       "      <td>1</td>\n",
       "      <td>0.0417</td>\n",
       "      <td>0.0000</td>\n",
       "      <td>47.7209</td>\n",
       "      <td>-0.1834</td>\n",
       "      <td>1.7965</td>\n",
       "      <td>-1</td>\n",
       "      <td>-0.0794</td>\n",
       "      <td>0.0000</td>\n",
       "    </tr>\n",
       "    <tr>\n",
       "      <th>9997</th>\n",
       "      <td>173692</td>\n",
       "      <td>1245305163</td>\n",
       "      <td>40.6034</td>\n",
       "      <td>-1.5051</td>\n",
       "      <td>-1.6758</td>\n",
       "      <td>-1</td>\n",
       "      <td>0.0635</td>\n",
       "      <td>0.2012</td>\n",
       "      <td>44.4382</td>\n",
       "      <td>-1.0010</td>\n",
       "      <td>1.5380</td>\n",
       "      <td>1</td>\n",
       "      <td>-0.0671</td>\n",
       "      <td>1.1499</td>\n",
       "    </tr>\n",
       "    <tr>\n",
       "      <th>9998</th>\n",
       "      <td>173692</td>\n",
       "      <td>1245041468</td>\n",
       "      <td>37.2853</td>\n",
       "      <td>1.0024</td>\n",
       "      <td>-2.1486</td>\n",
       "      <td>1</td>\n",
       "      <td>0.0361</td>\n",
       "      <td>0.0000</td>\n",
       "      <td>41.0945</td>\n",
       "      <td>-0.1200</td>\n",
       "      <td>0.8850</td>\n",
       "      <td>-1</td>\n",
       "      <td>-0.0291</td>\n",
       "      <td>0.0000</td>\n",
       "    </tr>\n",
       "    <tr>\n",
       "      <th>9999</th>\n",
       "      <td>173692</td>\n",
       "      <td>1244770092</td>\n",
       "      <td>40.7389</td>\n",
       "      <td>1.1202</td>\n",
       "      <td>-0.2863</td>\n",
       "      <td>-1</td>\n",
       "      <td>0.0670</td>\n",
       "      <td>0.6457</td>\n",
       "      <td>30.6292</td>\n",
       "      <td>-0.3396</td>\n",
       "      <td>2.8693</td>\n",
       "      <td>1</td>\n",
       "      <td>-0.0687</td>\n",
       "      <td>0.0000</td>\n",
       "    </tr>\n",
       "  </tbody>\n",
       "</table>\n",
       "</div>"
      ],
      "text/plain": [
       "         Run       Event      pt1    eta1    phi1  Q1    dxy1    iso1  \\\n",
       "9995  173692  1245050481   8.9721 -1.6158 -2.7176   1 -0.0294  8.7183   \n",
       "9996  173692  1244979327  39.4543 -1.1310 -2.0568   1  0.0417  0.0000   \n",
       "9997  173692  1245305163  40.6034 -1.5051 -1.6758  -1  0.0635  0.2012   \n",
       "9998  173692  1245041468  37.2853  1.0024 -2.1486   1  0.0361  0.0000   \n",
       "9999  173692  1244770092  40.7389  1.1202 -0.2863  -1  0.0670  0.6457   \n",
       "\n",
       "          pt2    eta2    phi2  Q2    dxy2    iso2  \n",
       "9995  13.5266  1.8709  2.7911   1 -0.0689  0.4202  \n",
       "9996  47.7209 -0.1834  1.7965  -1 -0.0794  0.0000  \n",
       "9997  44.4382 -1.0010  1.5380   1 -0.0671  1.1499  \n",
       "9998  41.0945 -0.1200  0.8850  -1 -0.0291  0.0000  \n",
       "9999  30.6292 -0.3396  2.8693   1 -0.0687  0.0000  "
      ]
     },
     "execution_count": 17,
     "metadata": {},
     "output_type": "execute_result"
    }
   ],
   "source": [
    "# Aperçu des 5 dernières lignes\n",
    "data.tail()"
   ]
  },
  {
   "cell_type": "code",
   "execution_count": 16,
   "id": "37e973ef",
   "metadata": {
    "scrolled": true
   },
   "outputs": [
    {
     "name": "stdout",
     "output_type": "stream",
     "text": [
      "Nombre d'évènements :  10000\n"
     ]
    }
   ],
   "source": [
    "# Nombre de lignes dans le fichier csv (exceptée la première ligne qui comporte les noms de colonne)\n",
    "print(\"Nombre d'évènements : \", len(data))"
   ]
  },
  {
   "cell_type": "markdown",
   "id": "e95d6fd0",
   "metadata": {},
   "source": [
    "## 2) Calcul de la masse invariante"
   ]
  },
  {
   "cell_type": "markdown",
   "id": "59493d80",
   "metadata": {},
   "source": [
    "Remarquez que ce tableau ne contient pas de variable \"M\". Nous devons donc la calculer nous-mêmes comme suit. \n",
    "\n",
    "Le paragraphe qui suit vise uniquement à donner des éléments de compréhension de la notion de \"masse invariante\". Sa lecture n'est pas indispensable pour poursuivre l'activité. "
   ]
  },
  {
   "cell_type": "markdown",
   "id": "159e3bdb",
   "metadata": {},
   "source": [
    "Ce calcul s'effectue dans le cadre de la relativité restreinte, car les particules étudiées se déplacent à des vitesses suffisamment grandes. La relativité restreinte décrit des \"évènements\" au moyen d'informations de temps et d'espace. Dans ce cadre théorique, l'espace-temps est décrit par une structure particulière : l'espace de Minkowski. \n",
    "\n",
    "Il comporte 4 dimensions : une dimension temporelle (t) et trois dimensions spatiales (x,y,z). Les vecteurs de cet espace sont nommés \"quadri-vecteurs\" : $(ct, x, y, z)$. \n",
    "\n",
    "Les informations cinématiques font également l'objet de quadri-vecteurs dédiés : les \"quadri-impulsions\", dont les 4 coordonnées sont l'énergie de la particule et son impulsion : $(E/c, p_x, p_y, p_z)$.\n",
    "\n",
    "Notez que le temps est multiplié ici par la célérité c. De même, l'énergie est divisée par c. Ceci permet d'assurer l'homogénéité des coordonnées.\n",
    "\n",
    "La masse invariante correspond au calcul d'une \"pseudo-norme\" via un produit scalaire particulier, qui comporte des signes moins. La pseudo-norme fournit un scalaire qui ne dépend pas du référentiel considéré, d'où le nom de masse **invariante**. L'égalité de deux quadri-impulsions encode la conservation simultanée de l'énergie et de l'impulsion. Elle entraîne aussi l'égalité de leurs pseudo-normes, et donc la conservation de la masse invariante.\n",
    "\n",
    "Le calcul suivant fait de plus usage du système de coordonnées particulier du détecteur CMS, et des observables cinématiques correspondantes."
   ]
  },
  {
   "cell_type": "code",
   "execution_count": 23,
   "id": "db285205",
   "metadata": {},
   "outputs": [],
   "source": [
    "# Ajouter une variable au data frame en fournissant l'expression permettant de l'obtenir à partir des variables existantes\n",
    "data['M'] = np.sqrt(2*data.pt1*data.pt2*(np.cosh(data.eta1-data.eta2) - np.cos(data.phi1-data.phi2)))"
   ]
  },
  {
   "cell_type": "markdown",
   "id": "88c02929",
   "metadata": {},
   "source": [
    "## 2) Distribution de la masse invariante\n",
    "\n"
   ]
  },
  {
   "cell_type": "code",
   "execution_count": 24,
   "id": "d930d935",
   "metadata": {},
   "outputs": [],
   "source": [
    "masse_invariante = data['M']"
   ]
  },
  {
   "cell_type": "markdown",
   "id": "e9388d43",
   "metadata": {},
   "source": [
    "Affichez les premières et dernières valeurs pour un simple aperçu rapide."
   ]
  },
  {
   "cell_type": "code",
   "execution_count": 25,
   "id": "d1b8a0ee",
   "metadata": {},
   "outputs": [
    {
     "data": {
      "text/plain": [
       "0       89.885919\n",
       "1       88.812177\n",
       "2       88.474683\n",
       "3       90.332429\n",
       "4       90.515882\n",
       "          ...    \n",
       "9995    61.612327\n",
       "9996    91.859015\n",
       "9997    87.614328\n",
       "9998    90.844048\n",
       "9999    90.316659\n",
       "Name: M, Length: 10000, dtype: float64"
      ]
     },
     "execution_count": 25,
     "metadata": {},
     "output_type": "execute_result"
    }
   ],
   "source": [
    "masse_invariante"
   ]
  },
  {
   "cell_type": "code",
   "execution_count": 27,
   "id": "ac7825e7",
   "metadata": {},
   "outputs": [
    {
     "data": {
      "image/png": "[encoded data removed]",
      "text/plain": [
       "<Figure size 432x288 with 1 Axes>"
      ]
     },
     "metadata": {
      "needs_background": "light"
     },
     "output_type": "display_data"
    }
   ],
   "source": [
    "# Correction\n",
    "plt.hist(masse_invariante, bins=240)\n",
    "plt.xlabel(\"Masse invariante [GeV/$c^2$]\")\n",
    "plt.ylabel(\"Nombre d'évènements\")\n",
    "plt.title(\"Distribution de masse invariante de dimuons\")\n",
    "\n",
    "# avec une échelle logarithmique en ordonnée\n",
    "#plt.yscale('log')\n",
    "\n",
    "# traçage du graphique\n",
    "plt.show()"
   ]
  },
  {
   "cell_type": "markdown",
   "id": "88f30f75",
   "metadata": {},
   "source": [
    "## 3) Réduction du bruit de fond"
   ]
  },
  {
   "cell_type": "markdown",
   "id": "7e5cb481",
   "metadata": {},
   "source": [
    "La distribution de masse invariante ainsi produite provient de données enregistrées selon certains critères, puis filtrées au moyen de critères conçus pour favoriser le **signal** par rapport au **bruit de fond**.\n",
    "\n",
    "Le **signal** désigne ici la particule instable à laquelle nous nous intéressons (le boson Z), dans son canal de désintégration en paires de muons de signes opposés. Le canal de désintégration et les configurations cinématiques attendues sont aussi nommées \"signature\". Ce signal se manifeste sous la forme d'une résonance en masse, c'est-à-dire d'un pic sur la distribution de masse invariante. \n",
    "\n",
    "Le **bruit de fond** désigne l'ensemble des autres processus qui produisent une signature similaire en apparence. Il peut s'agir d'autres processus de physique des particules produisant deux vrais muons de signes opposés. Il peut aussi s'agir d'évènements qui imitent la signature attendue, du fait d'erreurs expérimentales (par exemple dans la détermination de la charge des muons).\n",
    "\n",
    "Si vous observez de plus près la distribution de masse invariante, vous verrez que le pic (assimilable à une distribution gaussienne) semble s'additionner à une distribution décroissante. En effet la queue de distribution à gauche comporte plus d'évènements que la queue de droite.\n",
    "\n",
    "Sélections : $I_{track}$ < 3 GeV et $d_{xy}$ < 0.2 cm.\n",
    "\n",
    "Variables correspondantes : iso1, iso2 ; dxy1, dxy2."
   ]
  },
  {
   "cell_type": "code",
   "execution_count": 31,
   "id": "23535f5b",
   "metadata": {},
   "outputs": [
    {
     "name": "stdout",
     "output_type": "stream",
     "text": [
      "Efficacité de sélection :  8848 / 10000  évènements subsistent.\n"
     ]
    }
   ],
   "source": [
    "# sélection\n",
    "data_selection = data[ (data.iso1 < 3) & (data.iso2 < 3) & (data.dxy1 < 0.2) & (data.dxy2 < 0.2) ]\n",
    "\n",
    "# vérifier combien d'évènements subsistent\n",
    "print( \"Efficacité de sélection : \", len(data_selection), \"/\", len(data), \" évènements subsistent.\")"
   ]
  },
  {
   "cell_type": "code",
   "execution_count": 32,
   "id": "ef0c9995",
   "metadata": {},
   "outputs": [
    {
     "data": {
      "image/png": "[encoded data removed]",
      "text/plain": [
       "<Figure size 432x288 with 1 Axes>"
      ]
     },
     "metadata": {
      "needs_background": "light"
     },
     "output_type": "display_data"
    }
   ],
   "source": [
    "# Correction\n",
    "plt.hist(data_selection['M'], bins=240)\n",
    "plt.xlabel(\"Masse invariante [GeV/$c^2$]\")\n",
    "plt.ylabel(\"Nombre d'évènements\")\n",
    "plt.title(\"Distribution de masse invariante de dimuons\")\n",
    "\n",
    "# avec une échelle logarithmique en ordonnée\n",
    "#plt.yscale('log')\n",
    "\n",
    "# traçage du graphique\n",
    "plt.show()"
   ]
  },
  {
   "cell_type": "markdown",
   "id": "382182c9",
   "metadata": {},
   "source": [
    "On observe une réduction du bruit de fond : la queue de distribution à gauche du pic est sensiblement réduite."
   ]
  },
  {
   "cell_type": "markdown",
   "id": "0d8d00c8",
   "metadata": {},
   "source": [
    "## 4) Largeur de la distribution"
   ]
  },
  {
   "cell_type": "markdown",
   "id": "c8aacdad",
   "metadata": {},
   "source": [
    "Cette approche révèle un aspect particulier de la notion de masse d'une particule. Bien qu'il s'agisse d'une valeur bien précise, la distribution de masse invariante possède une certaine largeur. Cette dernière a deux origines très différentes.\n",
    "\n",
    "D'une part, le dispositif expérimental dans son ensemble produit une incertitude globale sur la valeur de la masse invariante. Elle résulte de la combinaison de nombreuses sources d'incertitude, à la fois systématiques et statistiques : mesure de l'énergie, reconstruction et identification des particules, mesure de leur impulsion et de leur charge, observables cinématiques diverses, etc.\n",
    "\n",
    "D'une certaine manière, l'autre origine de cette largeur est plus inattendue. Indépendamment de toute incertitude expérimentale, il existe une incertitude fondamentale sur la masse d'une particule lors de sa production. Celle-ci est nommée \"largeur naturelle\". La particule peut-être produite avec une valeur de masse différente de la valeur nominale : plus cette différence est importante, moins elle est probable (suivant une distribution de Breit-Wigner). Ce phénomène provient du principe d'incertitude d'Heisenberg appliqué aux quantités conjugées énergie (E) et temps (t) : $\\Delta E \\Delta t ≥ \\hbar/2$."
   ]
  },
  {
   "cell_type": "markdown",
   "id": "9fde778c",
   "metadata": {},
   "source": [
    "## 5) Incertitude expérimentale"
   ]
  },
  {
   "cell_type": "markdown",
   "id": "cd9ac705",
   "metadata": {},
   "source": [
    "Cette section vise à une estimation simplifiée de l'incertitude expérimentale sur la masse invariante du boson Z au sein des données exploitées dans le cadre de cette activité."
   ]
  },
  {
   "cell_type": "markdown",
   "id": "3accf1cc",
   "metadata": {},
   "source": [
    "### Bravo ! Vous avez réussi !\n",
    "\n",
    "Source : https://github.com/tpmccauley/cmsopendata-jupyter\n",
    "\n",
    "Pré-sélection des données :\n",
    "https://github.com/tpmccauley/Zmumu-filter/blob/master/ZmumuFilter_cfg.py"
   ]
  }
 ],
 "metadata": {
  "kernelspec": {
   "display_name": "Python 3 (ipykernel)",
   "language": "python",
   "name": "python3"
  },
  "language_info": {
   "codemirror_mode": {
    "name": "ipython",
    "version": 3
   },
   "file_extension": ".py",
   "mimetype": "text/x-python",
   "name": "python",
   "nbconvert_exporter": "python",
   "pygments_lexer": "ipython3",
   "version": "3.7.5"
  }
 },
 "nbformat": 4,
 "nbformat_minor": 5
}
