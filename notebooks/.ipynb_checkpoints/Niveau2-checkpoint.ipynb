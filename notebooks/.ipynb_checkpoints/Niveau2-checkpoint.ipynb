{
 "cells": [
  {
   "cell_type": "markdown",
   "id": "eecdc76a",
   "metadata": {},
   "source": [
    "# Activité 2 - Exploiter les évènements à deux muons"
   ]
  },
  {
   "cell_type": "markdown",
   "id": "c40b9d4d",
   "metadata": {},
   "source": [
    "Maintenant que vous avez visualisé des \"évènements\" dans le détecteur CMS, vous allez exploiter des données réelles enregistrées par le détecteur CMS auprès du LHC du CERN en 2011. Les données consistent en diverses observables concernant les muons reconstruits au sein du détecteur lors des collisions.\n",
    "\n",
    "Cette activité présente une notion majeure en physique des particules : la \"résonance\", c'est-à-dire un pic sur une distribution de \"masse invariante\", qui correspond à une particule instable se désintégrant en objets détectables.\n",
    "\n",
    "**Objectif global** : identifier les particules se désintégrant en deux muons.\n",
    "\n",
    "**Objectifs intermédiaires** :\n",
    "- importer les outils de traitement de données\n",
    "- importer les données\n",
    "- produire un histogramme de \"masse invariante\" et repérer ses pics\n",
    "- identifier la particule correspondant à chaque pic"
   ]
  },
  {
   "cell_type": "markdown",
   "id": "b0c95146",
   "metadata": {},
   "source": [
    "*Note technique* : vous utilisez ici un \"notebook jupyter\". Il s'agit d'un outil permettant de développer des scripts python de façon interactive et modulable.\n",
    "\n",
    "Chaque \"cellule\" contient quelques lignes de code, que vous pouvez modifier puis exécuter en cliquant sur le bouton correspondant. Pendant l'exécution, le caractère [\\*] s'affiche. Lorsque l'exécution est finie, il est remplacé par le numéro de la cellule dans l'ordre d'exécution que vous aurez opéré.\n",
    "\n",
    "Si vous modifiez une cellule donnée, il faut à nouveau l'exécuter pour que les changements soient appliqués. De plus, pour propager ces changements aux cellules suivantes, il faut les exécuter à nouveau. \n",
    "\n",
    "Pour appliquer tous les changements en une seule fois à l'ensemble du notebook, vous pouvez procéder ainsi : \"Kernel\" --> \"Restart and Clear Output\" puis \"Restart and Run All\"."
   ]
  },
  {
   "cell_type": "markdown",
   "id": "7508be13",
   "metadata": {},
   "source": [
    "## 1) Importer les outils"
   ]
  },
  {
   "cell_type": "code",
   "execution_count": 1,
   "id": "06653a60",
   "metadata": {},
   "outputs": [],
   "source": [
    "# structures de données et outils d'analyse\n",
    "import pandas as pd \n",
    "\n",
    "# calcul scientifique\n",
    "import numpy as np\n",
    "\n",
    "# production de graphiques (\"plots\" en anglais)\n",
    "import matplotlib.pyplot as plt"
   ]
  },
  {
   "cell_type": "markdown",
   "id": "6dc4c5df",
   "metadata": {},
   "source": [
    "## 2) Importer les données\n",
    "\n",
    "Origine des données : \"Open Data\" du CERN. _Dataset_ nommé \"DoubleMu\" collecté en 2011 par l'expérience CMS.\n",
    "\n",
    "Pour référence : https://opendata.cern.ch/search?q=&f=type%3ADataset%2Bsubtype%3ADerived&f=experiment%3ACMS&f=file_type%3Acsv&l=list&order=desc&p=1&s=10&sort=mostrecent\n",
    "\n",
    "Dans ce contexte, les \"données\" consistent en un fichier csv (\"comma-separated values\"). "
   ]
  },
  {
   "cell_type": "code",
   "execution_count": 13,
   "id": "1c23c3c2",
   "metadata": {},
   "outputs": [],
   "source": [
    "# 2) Importer les données\n",
    "\n",
    "# importer les données dans un \"data frame\"\n",
    "data = pd.read_csv('data/Dimuon_DoubleMu.csv')"
   ]
  },
  {
   "cell_type": "code",
   "execution_count": 15,
   "id": "ccece351",
   "metadata": {},
   "outputs": [
    {
     "data": {
      "text/html": [
       "<div>\n",
       "<style scoped>\n",
       "    .dataframe tbody tr th:only-of-type {\n",
       "        vertical-align: middle;\n",
       "    }\n",
       "\n",
       "    .dataframe tbody tr th {\n",
       "        vertical-align: top;\n",
       "    }\n",
       "\n",
       "    .dataframe thead th {\n",
       "        text-align: right;\n",
       "    }\n",
       "</style>\n",
       "<table border=\"1\" class=\"dataframe\">\n",
       "  <thead>\n",
       "    <tr style=\"text-align: right;\">\n",
       "      <th></th>\n",
       "      <th>Run</th>\n",
       "      <th>Event</th>\n",
       "      <th>type1</th>\n",
       "      <th>E1</th>\n",
       "      <th>px1</th>\n",
       "      <th>py1</th>\n",
       "      <th>pz1</th>\n",
       "      <th>pt1</th>\n",
       "      <th>eta1</th>\n",
       "      <th>phi1</th>\n",
       "      <th>...</th>\n",
       "      <th>type2</th>\n",
       "      <th>E2</th>\n",
       "      <th>px2</th>\n",
       "      <th>py2</th>\n",
       "      <th>pz2</th>\n",
       "      <th>pt2</th>\n",
       "      <th>eta2</th>\n",
       "      <th>phi2</th>\n",
       "      <th>Q2</th>\n",
       "      <th>M</th>\n",
       "    </tr>\n",
       "  </thead>\n",
       "  <tbody>\n",
       "    <tr>\n",
       "      <th>0</th>\n",
       "      <td>165617</td>\n",
       "      <td>74601703</td>\n",
       "      <td>G</td>\n",
       "      <td>9.6987</td>\n",
       "      <td>-9.5104</td>\n",
       "      <td>0.3662</td>\n",
       "      <td>1.8633</td>\n",
       "      <td>9.5175</td>\n",
       "      <td>0.1945</td>\n",
       "      <td>3.1031</td>\n",
       "      <td>...</td>\n",
       "      <td>G</td>\n",
       "      <td>9.7633</td>\n",
       "      <td>7.3277</td>\n",
       "      <td>-1.1524</td>\n",
       "      <td>6.3473</td>\n",
       "      <td>7.4178</td>\n",
       "      <td>0.7756</td>\n",
       "      <td>-0.1560</td>\n",
       "      <td>1</td>\n",
       "      <td>17.4922</td>\n",
       "    </tr>\n",
       "    <tr>\n",
       "      <th>1</th>\n",
       "      <td>165617</td>\n",
       "      <td>75100943</td>\n",
       "      <td>G</td>\n",
       "      <td>6.2039</td>\n",
       "      <td>-4.2666</td>\n",
       "      <td>0.4565</td>\n",
       "      <td>-4.4793</td>\n",
       "      <td>4.2910</td>\n",
       "      <td>-0.9121</td>\n",
       "      <td>3.0350</td>\n",
       "      <td>...</td>\n",
       "      <td>G</td>\n",
       "      <td>9.6690</td>\n",
       "      <td>7.2740</td>\n",
       "      <td>-2.8211</td>\n",
       "      <td>-5.7104</td>\n",
       "      <td>7.8019</td>\n",
       "      <td>-0.6786</td>\n",
       "      <td>-0.3700</td>\n",
       "      <td>1</td>\n",
       "      <td>11.5534</td>\n",
       "    </tr>\n",
       "    <tr>\n",
       "      <th>2</th>\n",
       "      <td>165617</td>\n",
       "      <td>75587682</td>\n",
       "      <td>G</td>\n",
       "      <td>19.2892</td>\n",
       "      <td>-4.2121</td>\n",
       "      <td>-0.6516</td>\n",
       "      <td>18.8121</td>\n",
       "      <td>4.2622</td>\n",
       "      <td>2.1905</td>\n",
       "      <td>-2.9881</td>\n",
       "      <td>...</td>\n",
       "      <td>G</td>\n",
       "      <td>9.8244</td>\n",
       "      <td>4.3439</td>\n",
       "      <td>-0.4735</td>\n",
       "      <td>8.7985</td>\n",
       "      <td>4.3697</td>\n",
       "      <td>1.4497</td>\n",
       "      <td>-0.1086</td>\n",
       "      <td>1</td>\n",
       "      <td>9.1636</td>\n",
       "    </tr>\n",
       "    <tr>\n",
       "      <th>3</th>\n",
       "      <td>165617</td>\n",
       "      <td>75660978</td>\n",
       "      <td>G</td>\n",
       "      <td>7.0427</td>\n",
       "      <td>-6.3268</td>\n",
       "      <td>-0.2685</td>\n",
       "      <td>3.0802</td>\n",
       "      <td>6.3325</td>\n",
       "      <td>0.4690</td>\n",
       "      <td>-3.0992</td>\n",
       "      <td>...</td>\n",
       "      <td>G</td>\n",
       "      <td>5.5857</td>\n",
       "      <td>4.4748</td>\n",
       "      <td>0.8489</td>\n",
       "      <td>-3.2319</td>\n",
       "      <td>4.5546</td>\n",
       "      <td>-0.6605</td>\n",
       "      <td>0.1875</td>\n",
       "      <td>1</td>\n",
       "      <td>12.4774</td>\n",
       "    </tr>\n",
       "    <tr>\n",
       "      <th>4</th>\n",
       "      <td>165617</td>\n",
       "      <td>75947690</td>\n",
       "      <td>G</td>\n",
       "      <td>7.2751</td>\n",
       "      <td>0.1030</td>\n",
       "      <td>-5.5331</td>\n",
       "      <td>-4.7212</td>\n",
       "      <td>5.5340</td>\n",
       "      <td>-0.7736</td>\n",
       "      <td>-1.5522</td>\n",
       "      <td>...</td>\n",
       "      <td>G</td>\n",
       "      <td>7.3181</td>\n",
       "      <td>-0.3988</td>\n",
       "      <td>6.9408</td>\n",
       "      <td>2.2825</td>\n",
       "      <td>6.9523</td>\n",
       "      <td>0.3227</td>\n",
       "      <td>1.6282</td>\n",
       "      <td>1</td>\n",
       "      <td>14.3159</td>\n",
       "    </tr>\n",
       "  </tbody>\n",
       "</table>\n",
       "<p>5 rows × 21 columns</p>\n",
       "</div>"
      ],
      "text/plain": [
       "      Run     Event type1       E1     px1     py1      pz1     pt1    eta1  \\\n",
       "0  165617  74601703     G   9.6987 -9.5104  0.3662   1.8633  9.5175  0.1945   \n",
       "1  165617  75100943     G   6.2039 -4.2666  0.4565  -4.4793  4.2910 -0.9121   \n",
       "2  165617  75587682     G  19.2892 -4.2121 -0.6516  18.8121  4.2622  2.1905   \n",
       "3  165617  75660978     G   7.0427 -6.3268 -0.2685   3.0802  6.3325  0.4690   \n",
       "4  165617  75947690     G   7.2751  0.1030 -5.5331  -4.7212  5.5340 -0.7736   \n",
       "\n",
       "     phi1  ...  type2      E2     px2     py2     pz2     pt2    eta2    phi2  \\\n",
       "0  3.1031  ...      G  9.7633  7.3277 -1.1524  6.3473  7.4178  0.7756 -0.1560   \n",
       "1  3.0350  ...      G  9.6690  7.2740 -2.8211 -5.7104  7.8019 -0.6786 -0.3700   \n",
       "2 -2.9881  ...      G  9.8244  4.3439 -0.4735  8.7985  4.3697  1.4497 -0.1086   \n",
       "3 -3.0992  ...      G  5.5857  4.4748  0.8489 -3.2319  4.5546 -0.6605  0.1875   \n",
       "4 -1.5522  ...      G  7.3181 -0.3988  6.9408  2.2825  6.9523  0.3227  1.6282   \n",
       "\n",
       "   Q2        M  \n",
       "0   1  17.4922  \n",
       "1   1  11.5534  \n",
       "2   1   9.1636  \n",
       "3   1  12.4774  \n",
       "4   1  14.3159  \n",
       "\n",
       "[5 rows x 21 columns]"
      ]
     },
     "execution_count": 15,
     "metadata": {},
     "output_type": "execute_result"
    }
   ],
   "source": [
    "# nous pouvons afficher les 5 premières lignes du data frame sous la forme d'un tableau\n",
    "data.head()"
   ]
  },
  {
   "cell_type": "markdown",
   "id": "3cc38641",
   "metadata": {},
   "source": [
    "Chaque ligne correspond à un évènement. Les informations suivantes sont indiquées : les numéros de _run_ (période d'acquisition de données continue), d'évènement (lecture sélective de l'état du détecteur suite à une collision), puis des informations sur les deux muons reconstruits par les algorithmes de traitement de données de CMS. Il s'agit essentiellement d'observables cinématiques, telles que l'énergie, l'impulsion, les coordonnées angulaires.\n",
    "\n",
    "Une sélection des données a été opérée au préalable, nous pouvons exploiter directement les paires de muons pré-sélectionnées, dont la masse invariante a été calculée. Il s'agit de la variable \"M\".\n",
    "\n",
    "Nous allons extraire la colonne \"M\" du tableau de données ci-dessus."
   ]
  },
  {
   "cell_type": "code",
   "execution_count": 29,
   "id": "ff0c4785",
   "metadata": {},
   "outputs": [
    {
     "name": "stdout",
     "output_type": "stream",
     "text": [
      "100000 100000 6124\n"
     ]
    }
   ],
   "source": [
    "# Tests to be removed FIXME\n",
    "print( len(data) , len(data[data.Q1!=data.Q2]) , len( data[ (data.M>60) & (data.M<120) ] ) )"
   ]
  },
  {
   "cell_type": "code",
   "execution_count": 7,
   "id": "c636e27b",
   "metadata": {},
   "outputs": [],
   "source": [
    "# extraire la liste des valeurs de \"M\"\n",
    "masse_invariante = data['M']"
   ]
  },
  {
   "cell_type": "markdown",
   "id": "d6b6a81e",
   "metadata": {},
   "source": [
    "Il est souvent utile d'avoir un aperçu de quelques exemples de valeurs. Vous pouvez afficher les 5 premières et 5 dernières valeurs en tapant le nom de la variable définie ci-dessus, puis en exécutant la cellule."
   ]
  },
  {
   "cell_type": "code",
   "execution_count": 8,
   "id": "33bef56a",
   "metadata": {
    "scrolled": true
   },
   "outputs": [
    {
     "data": {
      "text/plain": [
       "0        17.4922\n",
       "1        11.5534\n",
       "2         9.1636\n",
       "3        12.4774\n",
       "4        14.3159\n",
       "          ...   \n",
       "99995    11.2077\n",
       "99996    14.5819\n",
       "99997    29.8425\n",
       "99998    20.2068\n",
       "99999     9.3741\n",
       "Name: M, Length: 100000, dtype: float64"
      ]
     },
     "execution_count": 8,
     "metadata": {},
     "output_type": "execute_result"
    }
   ],
   "source": [
    "masse_invariante"
   ]
  },
  {
   "cell_type": "markdown",
   "id": "dba7c746",
   "metadata": {},
   "source": [
    "## 3) Produire un histogramme"
   ]
  },
  {
   "cell_type": "markdown",
   "id": "abe3d46f",
   "metadata": {},
   "source": [
    "Tracez l'histogramme de la variable *masse_invariante* en utilisant la fonction _hist()_ du module matplotlib.pyplot.\n",
    "\n",
    "Documentation : http://matplotlib.org/api/pyplot_api.html?highlight=matplotlib.pyplot.hist#matplotlib.pyplot.hist\n",
    "\n",
    "Instructions :\n",
    "- l'histogramme doit comporter 500 _bins_ (\"classes\" en français)\n",
    "- label de l'axe des abscisses : \"Masse invariante [GeV/$c^2$]\"\n",
    "- label de l'axe des ordonnées : \"Masse invariante [GeV/$c^2$]\"\n",
    "- titre de l'histogramme : \"Distribution de masse invariante de dimuons\"\n",
    "- afficher le graphique"
   ]
  },
  {
   "cell_type": "code",
   "execution_count": 35,
   "id": "94645ae9",
   "metadata": {},
   "outputs": [
    {
     "data": {
      "image/png": "[encoded data removed]",
      "text/plain": [
       "<Figure size 432x288 with 1 Axes>"
      ]
     },
     "metadata": {
      "needs_background": "light"
     },
     "output_type": "display_data"
    }
   ],
   "source": [
    "# Correction\n",
    "plt.hist(masse_invariante, bins=500)\n",
    "plt.xlabel(\"Masse invariante [GeV/$c^2$]\")\n",
    "plt.ylabel(\"Nombre d'évènements\")\n",
    "plt.title(\"Distribution de masse invariante de dimuons\")\n",
    "\n",
    "# avec une échelle logarithmique\n",
    "#plt.xscale('log') # abscisse\n",
    "plt.yscale('log') # ordonnées\n",
    "\n",
    "# traçage du graphique\n",
    "plt.show()"
   ]
  },
  {
   "cell_type": "markdown",
   "id": "9ef3909f",
   "metadata": {},
   "source": [
    "## 4) Interprétation : \"résonances\"\n",
    "\n",
    "Si les collisions de protons produisent une particule instable de masse M, et qu'elle se désintègre (entre autres) en paire de muons, on peut l'observer par une étude statistique. En effet, la distribution de masse invariante des paires de muons comportera alors une \"résonance\", c'est-à-dire un pic. Si celui-ci est statistiquement significatif, alors on considère que l'on a bien observé cette particule instable.\n",
    "\n",
    "Dans cette section, vous allez vous concentrer sur l'intervalle de masse invariante suivant : [8, 12] GeV/$c^2$. Associez chaque pic à une particule connue en vous référant à la liste suivante : doc/ParticleList.pdf\n",
    "\n",
    "Sur cette liste, vous aurez la masse de chaque particule, ainsi que la fraction d'entre elles se désintégrant en dimuons.\n",
    "\n",
    "Instructions :\n",
    "- produire à nouveau un histogramme, comportant 200 _bins_, dans l'intervalle [8,12]\n",
    "- vous pouvez employer une échelle logarithmique en ordonnée avec la fonction suivante : plt.yscale('log') si cela facilite la lecture\n",
    "- repérez et notez la position de chaque pic, puis associez-la à une particule existante"
   ]
  },
  {
   "cell_type": "code",
   "execution_count": 10,
   "id": "11050ec9",
   "metadata": {
    "scrolled": true
   },
   "outputs": [
    {
     "data": {
      "image/png": "[encoded data removed]",
      "text/plain": [
       "<Figure size 432x288 with 1 Axes>"
      ]
     },
     "metadata": {
      "needs_background": "light"
     },
     "output_type": "display_data"
    }
   ],
   "source": [
    "plt.hist(masse_invariante, bins=200, range=[8,12])\n",
    "#plt.yscale('log')\n",
    "plt.show()"
   ]
  },
  {
   "cell_type": "markdown",
   "id": "9133ec65",
   "metadata": {},
   "source": [
    "Concentrons-nous maintenant sur la région suivante : [60, 120] GeV/$c^2$. Produisez à nouveau un histogramme ciblant cet intervalle de masse invariante (avec 60 _bins_)."
   ]
  },
  {
   "cell_type": "code",
   "execution_count": 11,
   "id": "315ebc2a",
   "metadata": {},
   "outputs": [
    {
     "data": {
      "image/png": "[encoded data removed]",
      "text/plain": [
       "<Figure size 432x288 with 1 Axes>"
      ]
     },
     "metadata": {
      "needs_background": "light"
     },
     "output_type": "display_data"
    }
   ],
   "source": [
    "plt.hist(masse_invariante, bins=120, range=[60,120])\n",
    "#plt.yscale('log')\n",
    "plt.show()"
   ]
  },
  {
   "cell_type": "markdown",
   "id": "f8505021",
   "metadata": {},
   "source": [
    "### Bravo ! Vous avez maintenant une première idée de la façon dont on \"observe\" des particules instables, et une notion de la nature statistique d'une telle observation.\n",
    "\n",
    "\n",
    "Source : https://opendata.cern.ch/docs/cms-guide-for-education"
   ]
  },
  {
   "cell_type": "markdown",
   "id": "8186f354",
   "metadata": {},
   "source": [
    "Pour aller plus loin : voir la publication officielle de l'expérience CMS en 2011. FIXME"
   ]
  }
 ],
 "metadata": {
  "kernelspec": {
   "display_name": "Python 3 (ipykernel)",
   "language": "python",
   "name": "python3"
  },
  "language_info": {
   "codemirror_mode": {
    "name": "ipython",
    "version": 3
   },
   "file_extension": ".py",
   "mimetype": "text/x-python",
   "name": "python",
   "nbconvert_exporter": "python",
   "pygments_lexer": "ipython3",
   "version": "3.7.5"
  }
 },
 "nbformat": 4,
 "nbformat_minor": 5
}
